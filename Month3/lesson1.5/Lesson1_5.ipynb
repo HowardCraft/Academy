{
 "cells": [
  {
   "cell_type": "markdown",
   "metadata": {},
   "source": [
    "“Let’s start with a simple ‘Hello, World!’ program. Unlike C++ where you need to include headers and use main(), Python lets you write the code directly.”"
   ]
  },
  {
   "cell_type": "code",
   "execution_count": 1,
   "metadata": {},
   "outputs": [
    {
     "name": "stdout",
     "output_type": "stream",
     "text": [
      "Hello, World!\n"
     ]
    }
   ],
   "source": [
    "# Hello, World! in Python\n",
    "print(\"Hello, World!\")"
   ]
  },
  {
   "cell_type": "markdown",
   "metadata": {},
   "source": [
    "“Notice how there’s no need for semicolons or braces, and the print function is built in.”\n"
   ]
  },
  {
   "cell_type": "markdown",
   "metadata": {},
   "source": [
    "# Variable and type declartion"
   ]
  },
  {
   "cell_type": "markdown",
   "metadata": {},
   "source": [
    "“In C++, you declare the type of a variable explicitly, but in Python, the interpreter infers the type. This makes writing code faster, though you lose some of the compile‑time type checking.”"
   ]
  },
  {
   "cell_type": "code",
   "execution_count": 3,
   "metadata": {},
   "outputs": [
    {
     "name": "stdout",
     "output_type": "stream",
     "text": [
      "type of a: <class 'int'>\n",
      "type of b: <class 'float'>\n",
      "type of c: <class 'str'>\n"
     ]
    }
   ],
   "source": [
    "# No type declaration needed in Python\n",
    "a = 10\n",
    "b = 3.14\n",
    "c = \"Arduino Python\"\n",
    "\n",
    "print(\"type of a:\", type(a))\n",
    "print(\"type of b:\", type(b))\n",
    "print(\"type of c:\", type(c))"
   ]
  },
  {
   "cell_type": "markdown",
   "metadata": {},
   "source": [
    "“Python assigns types automatically, so you simply use the variable names.”"
   ]
  },
  {
   "cell_type": "markdown",
   "metadata": {},
   "source": [
    "List of built-in Functions in python: https://docs.python.org/3/library/functions.html"
   ]
  },
  {
   "cell_type": "markdown",
   "metadata": {},
   "source": [
    "# Control Structures: Conditionals and Loops"
   ]
  },
  {
   "cell_type": "code",
   "execution_count": 5,
   "metadata": {},
   "outputs": [
    {
     "name": "stdout",
     "output_type": "stream",
     "text": [
      "It's cool!\n"
     ]
    }
   ],
   "source": [
    "# Conditional example\n",
    "room_temprature = 20 # Celsius\n",
    "\n",
    "# Check if the room temperature is above 25 degrees Celsius\n",
    "# If it is, print \"It's hot!\", otherwise print \"It's cool!\"\n",
    "if room_temprature > 25:\n",
    "    print(\"It's hot!\")\n",
    "else:\n",
    "    print(\"It's cool!\")\n",
    "\n"
   ]
  },
  {
   "cell_type": "markdown",
   "metadata": {},
   "source": [
    "Very important hint: No bracket, no ; Just tab's"
   ]
  },
  {
   "cell_type": "code",
   "execution_count": null,
   "metadata": {},
   "outputs": [],
   "source": [
    "# Loop example\n",
    "\n",
    "# Loop through numbers 0 to 9 with a step of 1\n",
    "for i in range(10):\n",
    "    print(i)\n",
    "\n",
    "# While loop example\n",
    "count = 0\n",
    "while count < 5:\n",
    "    print(\"Count is\", count)\n",
    "    count += 1  # Similar to C++'s count++\n"
   ]
  },
  {
   "cell_type": "markdown",
   "metadata": {},
   "source": [
    "# Function "
   ]
  },
  {
   "cell_type": "markdown",
   "metadata": {},
   "source": [
    "“Defining functions in Python is straightforward. You use the keyword def, and there’s no need to specify a return type.”"
   ]
  },
  {
   "cell_type": "code",
   "execution_count": 6,
   "metadata": {},
   "outputs": [
    {
     "name": "stdout",
     "output_type": "stream",
     "text": [
      "Sum of 5 and 7 is: 12\n"
     ]
    }
   ],
   "source": [
    "def add_two_number(a, b):\n",
    "    \"\"\"\n",
    "    Function to add two numbers\n",
    "    :param a: first number\n",
    "    :param b: second number\n",
    "    :return: sum of a and b\n",
    "    \"\"\"\n",
    "    return a + b\n",
    "\n",
    "# Function call\n",
    "result = add_two_number(5, 7)  \n",
    "print(\"Sum of 5 and 7 is:\", result)"
   ]
  },
  {
   "cell_type": "markdown",
   "metadata": {},
   "source": [
    "# Additional libraries"
   ]
  },
  {
   "cell_type": "markdown",
   "metadata": {},
   "source": [
    " NumPy: Numerical Computing"
   ]
  },
  {
   "cell_type": "markdown",
   "metadata": {},
   "source": [
    "NumPy is a core library for numerical computing in Python. It provides an efficient array object and functions to work with these arrays using vectorized operations. This is especially useful when coming from languages like C++ where you manually handle arrays"
   ]
  },
  {
   "cell_type": "code",
   "execution_count": 8,
   "metadata": {},
   "outputs": [
    {
     "name": "stdout",
     "output_type": "stream",
     "text": [
      "Collecting numpy\n",
      "  Downloading numpy-2.2.4-cp313-cp313-macosx_14_0_arm64.whl.metadata (62 kB)\n",
      "Downloading numpy-2.2.4-cp313-cp313-macosx_14_0_arm64.whl (5.1 MB)\n",
      "\u001b[2K   \u001b[90m━━━━━━━━━━━━━━━━━━━━━━━━━━━━━━━━━━━━━━━━\u001b[0m \u001b[32m5.1/5.1 MB\u001b[0m \u001b[31m28.9 MB/s\u001b[0m eta \u001b[36m0:00:00\u001b[0ma \u001b[36m0:00:01\u001b[0m\n",
      "\u001b[?25hInstalling collected packages: numpy\n",
      "Successfully installed numpy-2.2.4\n"
     ]
    }
   ],
   "source": [
    "# instal libraries\n",
    "!pip install numpy"
   ]
  },
  {
   "cell_type": "code",
   "execution_count": 10,
   "metadata": {},
   "outputs": [
    {
     "name": "stdout",
     "output_type": "stream",
     "text": [
      "Original array: [1 2 3 4 5]\n",
      "After multiplication by 2: [ 2  4  6  8 10]\n",
      "Mean of array: 3.0\n",
      "Standard Deviation of array: 1.4142135623730951\n"
     ]
    }
   ],
   "source": [
    "import numpy as np\n",
    "\n",
    "# Create a NumPy array from a list\n",
    "a = np.array([1, 2, 3, 4, 5])\n",
    "print(\"Original array:\", a)\n",
    "\n",
    "# Perform vectorized arithmetic: multiply each element by 2\n",
    "b = a * 2\n",
    "print(\"After multiplication by 2:\", b)\n",
    "\n",
    "# Calculate statistical metrics using built-in functions\n",
    "mean_value = np.mean(a)\n",
    "std_deviation = np.std(a)\n",
    "print(\"Mean of array:\", mean_value)\n",
    "print(\"Standard Deviation of array:\", std_deviation)\n"
   ]
  },
  {
   "cell_type": "markdown",
   "metadata": {},
   "source": [
    "Matplotlib: Data Visualization"
   ]
  },
  {
   "cell_type": "markdown",
   "metadata": {},
   "source": [
    "Matplotlib is a widely used plotting library that makes it simple to generate a wide range of plots, from line graphs to bar charts and scatter plots."
   ]
  },
  {
   "cell_type": "code",
   "execution_count": 11,
   "metadata": {},
   "outputs": [
    {
     "name": "stdout",
     "output_type": "stream",
     "text": [
      "Requirement already satisfied: matplotlib in ./.venv/lib/python3.13/site-packages (3.10.1)\n",
      "Requirement already satisfied: contourpy>=1.0.1 in ./.venv/lib/python3.13/site-packages (from matplotlib) (1.3.1)\n",
      "Requirement already satisfied: cycler>=0.10 in ./.venv/lib/python3.13/site-packages (from matplotlib) (0.12.1)\n",
      "Requirement already satisfied: fonttools>=4.22.0 in ./.venv/lib/python3.13/site-packages (from matplotlib) (4.57.0)\n",
      "Requirement already satisfied: kiwisolver>=1.3.1 in ./.venv/lib/python3.13/site-packages (from matplotlib) (1.4.8)\n",
      "Requirement already satisfied: numpy>=1.23 in ./.venv/lib/python3.13/site-packages (from matplotlib) (2.2.4)\n",
      "Requirement already satisfied: packaging>=20.0 in ./.venv/lib/python3.13/site-packages (from matplotlib) (24.2)\n",
      "Requirement already satisfied: pillow>=8 in ./.venv/lib/python3.13/site-packages (from matplotlib) (11.1.0)\n",
      "Requirement already satisfied: pyparsing>=2.3.1 in ./.venv/lib/python3.13/site-packages (from matplotlib) (3.2.3)\n",
      "Requirement already satisfied: python-dateutil>=2.7 in ./.venv/lib/python3.13/site-packages (from matplotlib) (2.9.0.post0)\n",
      "Requirement already satisfied: six>=1.5 in ./.venv/lib/python3.13/site-packages (from python-dateutil>=2.7->matplotlib) (1.17.0)\n"
     ]
    }
   ],
   "source": [
    "!pip install matplotlib"
   ]
  },
  {
   "cell_type": "code",
   "execution_count": 12,
   "metadata": {},
   "outputs": [
    {
     "data": {
      "image/png": "[encoded data removed]",
      "text/plain": [
       "<Figure size 800x400 with 1 Axes>"
      ]
     },
     "metadata": {},
     "output_type": "display_data"
    }
   ],
   "source": [
    "import numpy as np\n",
    "import matplotlib.pyplot as plt\n",
    "\n",
    "# Generate 100 equally spaced values between 0 and 2*pi\n",
    "x = np.linspace(0, 2 * np.pi, 100)\n",
    "# Compute the sine of these values\n",
    "y = np.sin(x)\n",
    "\n",
    "# Create a new figure with a specific size\n",
    "plt.figure(figsize=(8, 4))\n",
    "\n",
    "# Plot the sine wave with a label for the legend\n",
    "plt.plot(x, y, label='Sine Wave')\n",
    "\n",
    "# Add a title and labels to the axes\n",
    "plt.title(\"Sine Wave Example\")\n",
    "plt.xlabel(\"x (radians)\")\n",
    "plt.ylabel(\"sin(x)\")\n",
    "\n",
    "# Display the legend and grid for better readability\n",
    "plt.legend()\n",
    "plt.grid(True)\n",
    "\n",
    "# Show the plot in a new window\n",
    "plt.show()\n"
   ]
  }
 ],
 "metadata": {
  "kernelspec": {
   "display_name": ".venv",
   "language": "python",
   "name": "python3"
  },
  "language_info": {
   "codemirror_mode": {
    "name": "ipython",
    "version": 3
   },
   "file_extension": ".py",
   "mimetype": "text/x-python",
   "name": "python",
   "nbconvert_exporter": "python",
   "pygments_lexer": "ipython3",
   "version": "3.13.2"
  }
 },
 "nbformat": 4,
 "nbformat_minor": 2
}
