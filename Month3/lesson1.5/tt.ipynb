{
    "cells": [
     {
      "cell_type": "markdown",
      "metadata": {},
      "source": [
       "# Python Basics for C++ Programmers\n",
       "\n",
       "Welcome to the Python introduction notebook. This document is designed for students who already have a background in C++ and are transitioning into Python programming. We'll highlight the key differences between C++ and Python, discuss Python’s unique features, and provide examples to illustrate the concepts.\n",
       "\n",
       "## Why Python?\n",
       "\n",
       "Python is known for its simplicity and readability. Unlike C++:\n",
       "\n",
       "- **No need for explicit type declarations:** Python uses dynamic typing, which means the interpreter determines the type of a variable at runtime.\n",
       "- **No main() function required:** Code can be executed directly in a script.\n",
       "- **Simpler syntax:** There is no need for semicolons, braces, or header files.\n",
       "\n",
       "Let's explore these differences with some examples."
      ]
     },
     {
      "cell_type": "markdown",
      "metadata": {},
      "source": [
       "## Example 1: Hello, World!\n",
       "\n",
       "In C++, you might write:\n",
       "\n",
       "```cpp\n",
       "#include <iostream>\n",
       "\n",
       "int main() {\n",
       "    std::cout << \"Hello, World!\" << std::endl;\n",
       "    return 0;\n",
       "}\n",
       "```\n",
       "\n",
       "In Python, the same program is much simpler:"
      ]
     },
     {
      "cell_type": "code",
      "execution_count": 1,
      "metadata": {},
      "outputs": [
       {
        "name": "stdout",
        "output_type": "stream",
        "text": [
         "Hello, World!\n"
        ]
       }
      ],
      "source": [
       "# Hello, World! in Python\n",
       "print(\"Hello, World!\")"
      ]
     },
     {
      "cell_type": "markdown",
      "metadata": {},
      "source": [
       "Notice how there’s no need for header files or a main function. The `print` function is built into Python, making it quick and easy to display output."
      ]
     },
     {
      "cell_type": "markdown",
      "metadata": {},
      "source": [
       "## Variables and Type Declaration\n",
       "\n",
       "In C++, you declare the type of a variable explicitly, e.g., `int x = 5;`.\n",
       "\n",
       "In Python, you simply assign a value to a variable, and its type is inferred at runtime. For example:\n",
       "\n",
       "```python\n",
       "x = 5         # x is an integer\n",
       "y = 3.14      # y is a float\n",
       "name = \"Alice\"  # name is a string\n",
       "```\n",
       "\n",
       "Python’s dynamic typing makes it more flexible but also requires you to be mindful of variable types during operations."
      ]
     },
     {
      "cell_type": "markdown",
      "metadata": {},
      "source": [
       "## Data Structures: Lists vs. Arrays\n",
       "\n",
       "In C++, arrays are fixed-size and require explicit management. In Python, the built-in list is a dynamic array:\n",
       "\n",
       "```cpp\n",
       "// C++ array\n",
       "int arr[3] = {1, 2, 3};\n",
       "```\n",
       "\n",
       "```python\n",
       "# Python list\n",
       "my_list = [1, 2, 3]\n",
       "```\n",
       "\n",
       "Python lists can grow or shrink dynamically and include elements of different types if needed."
      ]
     },
     {
      "cell_type": "markdown",
      "metadata": {},
      "source": [
       "## Control Structures: if/else and Loops\n",
       "\n",
       "### if/else Statements\n",
       "\n",
       "In C++, an if/else statement might look like this:\n",
       "\n",
       "```cpp\n",
       "if (x > 0) {\n",
       "    // do something\n",
       "} else {\n",
       "    // do something else\n",
       "}\n",
       "```\n",
       "\n",
       "In Python, the syntax is more concise, relying on indentation:\n",
       "\n",
       "```python\n",
       "if x > 0:\n",
       "    print(\"x is positive\")\n",
       "else:\n",
       "    print(\"x is not positive\")\n",
       "```\n",
       "\n",
       "### Loops\n",
       "\n",
       "#### For Loop\n",
       "\n",
       "C++ for loop example:\n",
       "\n",
       "```cpp\n",
       "for (int i = 0; i < 5; i++) {\n",
       "    // do something\n",
       "}\n",
       "```\n",
       "\n",
       "Python for loop example (using `range`):\n",
       "\n",
       "```python\n",
       "for i in range(5):\n",
       "    print(i)\n",
       "```\n",
       "\n",
       "#### While Loop\n",
       "\n",
       "C++ while loop example:\n",
       "\n",
       "```cpp\n",
       "while (condition) {\n",
       "    // do something\n",
       "}\n",
       "```\n",
       "\n",
       "Python while loop example:\n",
       "\n",
       "```python\n",
       "while condition:\n",
       "    # do something\n",
       "```\n",
       "\n",
       "Python's control structures emphasize readability and simplicity."
      ]
     },
     {
      "cell_type": "markdown",
      "metadata": {},
      "source": [
       "## Functions\n",
       "\n",
       "In C++, you define functions with a specific return type and parameter types, for example:\n",
       "\n",
       "```cpp\n",
       "int add(int a, int b) {\n",
       "    return a + b;\n",
       "}\n",
       "```\n",
       "\n",
       "In Python, function definitions are more flexible:\n",
       "\n",
       "```python\n",
       "def add(a, b):\n",
       "    return a + b\n",
       "\n",
       "result = add(5, 3)\n",
       "print(result)  # Output: 8\n",
       "```\n",
       "\n",
       "Notice that Python does not require specifying the type of each parameter or the return type."
      ]
     },
     {
      "cell_type": "markdown",
      "metadata": {},
      "source": [
       "## Comments\n",
       "\n",
       "Comments in Python start with the hash (`#`) symbol. Multi-line comments can be created using triple quotes, which are also often used for documentation strings (docstrings):\n",
       "\n",
       "```python\n",
       "# This is a single-line comment\n",
       "\n",
       "'''\n",
       "This is a multi-line comment.\n",
       "It can span several lines.\n",
       "'''\n",
       "```\n",
       "\n",
       "Good commenting practices help make your code more readable and maintainable."
      ]
     },
     {
      "cell_type": "markdown",
      "metadata": {},
      "source": [
       "## Summary\n",
       "\n",
       "In this notebook, we introduced the basics of Python, focusing on key differences compared to C++:\n",
       "\n",
       "- **Syntax simplicity:** No semicolons or braces, indentation is used to define code blocks.\n",
       "- **Dynamic typing:** Types are inferred automatically, making variable declarations simpler.\n",
       "- **Control structures:** Python’s control flow is concise and readable.\n",
       "- **Functions:** Defined using `def`, with no need for explicit return types.\n",
       "\n",
       "These features allow you to write code quickly and read it easily. As you continue learning Python, you’ll find that its simplicity encourages rapid development and experimentation.\n",
       "\n",
       "Feel free to modify and experiment with the code examples provided!"
      ]
     },
     {
      "cell_type": "markdown",
      "metadata": {},
      "source": [
       "---\n",
       "### Next Steps\n",
       "\n",
       "1. Experiment with the code cells in this notebook to get comfortable with Python syntax.\n",
       "2. Explore additional Python libraries and tools such as NumPy for numerical computations and Matplotlib for data visualization.\n",
       "3. Look into object-oriented programming in Python and compare it with your C++ experiences.\n",
       "\n",
       "Happy coding!"
      ]
     }
    ],
    "metadata": {
     "colab": {
      "name": "Python Basics for C++ Programmers",
      "provenance": []
     },
     "kernelspec": {
      "display_name": "Python 3",
      "language": "python",
      "name": "python3"
     },
     "language_info": {
      "name": "python"
     }
    },
    "nbformat": 4,
    "nbformat_minor": 2
   }
   