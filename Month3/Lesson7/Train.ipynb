{
 "cells": [
  {
   "cell_type": "code",
   "execution_count": null,
   "id": "36596e01",
   "metadata": {},
   "outputs": [],
   "source": [
    "import tensorflow as tf\n",
    "from tensorflow.keras import layers, models\n",
    "import os\n",
    "import numpy as np\n",
    "import cv2\n"
   ]
  },
  {
   "cell_type": "code",
   "execution_count": null,
   "id": "52d9eb6f",
   "metadata": {},
   "outputs": [],
   "source": [
    "\n",
    "# Load data\n",
    "def load_data(path):\n",
    "    images = []\n",
    "    labels = []\n",
    "    for label_dir in os.listdir(path):\n",
    "        full_dir = os.path.join(path, label_dir)\n",
    "        if not os.path.isdir(full_dir):\n",
    "            continue\n",
    "        for file in os.listdir(full_dir):\n",
    "            img = cv2.imread(os.path.join(full_dir, file))\n",
    "            if img is not None:\n",
    "                img = cv2.resize(img, (224, 224)) / 255.0\n",
    "                images.append(img)\n",
    "                labels.append(int(label_dir))  # label_dir should be numeric or mapped\n",
    "    return np.array(images), np.array(labels)\n",
    "\n",
    "train_dir = \"Bananadetetion/train\"\n",
    "val_dir = \"Bananadetetion//valid\"\n",
    "\n",
    "x_train, y_train = load_data(train_dir)\n",
    "x_val, y_val = load_data(val_dir)\n",
    "\n",
    "# Simple CNN model\n",
    "model = models.Sequential([\n",
    "    layers.Input(shape=(224, 224, 3)),\n",
    "    layers.Conv2D(32, 3, activation='relu'),\n",
    "    layers.MaxPooling2D(),\n",
    "    layers.Conv2D(64, 3, activation='relu'),\n",
    "    layers.MaxPooling2D(),\n",
    "    layers.Flatten(),\n",
    "    layers.Dense(64, activation='relu'),\n",
    "    layers.Dense(len(set(y_train)), activation='softmax')\n",
    "])\n",
    "\n",
    "model.compile(optimizer='adam',\n",
    "              loss='sparse_categorical_crossentropy',\n",
    "              metrics=['accuracy'])\n",
    "\n",
    "model.fit(x_train, y_train, epochs=10, validation_data=(x_val, y_val))\n"
   ]
  },
  {
   "cell_type": "code",
   "execution_count": null,
   "id": "db9d000e",
   "metadata": {},
   "outputs": [],
   "source": [
    "converter = tf.lite.TFLiteConverter.from_keras_model(model)\n",
    "tflite_model = converter.convert()\n",
    "\n",
    "with open(\"banana_model.tflite\", \"wb\") as f:\n",
    "    f.write(tflite_model)\n"
   ]
  }
 ],
 "metadata": {
  "kernelspec": {
   "display_name": ".venv",
   "language": "python",
   "name": "python3"
  },
  "language_info": {
   "name": "python",
   "version": "3.13.3"
  }
 },
 "nbformat": 4,
 "nbformat_minor": 5
}
